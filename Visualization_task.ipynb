{
  "nbformat": 4,
  "nbformat_minor": 0,
  "metadata": {
    "colab": {
      "name": "Visualization_task.ipynb",
      "provenance": [],
      "collapsed_sections": [],
      "authorship_tag": "ABX9TyNtE+d3IbNVjefdarp3gwNB"
    },
    "kernelspec": {
      "name": "python3",
      "display_name": "Python 3"
    }
  },
  "cells": [
    {
      "cell_type": "code",
      "metadata": {
        "id": "7beFmXoo7sO0"
      },
      "source": [
        "import pandas as pd\r\n",
        "import requests\r\n",
        "import urllib.request\r\n",
        "import json\r\n",
        "from bs4 import BeautifulSoup as bs\r\n",
        "import matplotlib.pyplot as plt\r\n",
        "import seaborn as sns"
      ],
      "execution_count": 56,
      "outputs": []
    },
    {
      "cell_type": "code",
      "metadata": {
        "id": "r7alzb5F7xSz"
      },
      "source": [
        "def html_to_df(url, clean_empty = False , attrs = {}):\r\n",
        "    '''\r\n",
        "    Input:\r\n",
        "        url : data to be scrapped\r\n",
        "        clean_empty : if remove completly empty column.\r\n",
        "        attrs : html attr. dict tag while more then on table e.g. {'class' : 'class_name'}.\r\n",
        "    Output:\r\n",
        "        df : dataframe\r\n",
        "    '''\r\n",
        "    html_data = requests.get(url).text\r\n",
        "    soup = bs(html_data, \"lxml\")\r\n",
        "    table = str(soup.find(\"table\", attrs=attrs))\r\n",
        "    df = pd.read_html(str(table))[0]\r\n",
        "    \r\n",
        "    if clean_empty :\r\n",
        "        df = df.loc[:, ~df.isnull().all(axis = 0)]  \r\n",
        "    return df"
      ],
      "execution_count": 57,
      "outputs": []
    },
    {
      "cell_type": "code",
      "metadata": {
        "id": "N_xgFG-n8Ppz"
      },
      "source": [
        "url = \"https://github.com/robert456456456456/Web_server_log_parser/blob/master/devops.log\""
      ],
      "execution_count": 58,
      "outputs": []
    },
    {
      "cell_type": "code",
      "metadata": {
        "colab": {
          "base_uri": "https://localhost:8080/",
          "height": 419
        },
        "id": "dEiNMCAHBfMN",
        "outputId": "b1a51d07-d310-4c80-e00a-b83b32f68334"
      },
      "source": [
        "df = html_to_df(url,clean_empty=True)\r\n",
        "df"
      ],
      "execution_count": 59,
      "outputs": [
        {
          "output_type": "execute_result",
          "data": {
            "text/html": [
              "<div>\n",
              "<style scoped>\n",
              "    .dataframe tbody tr th:only-of-type {\n",
              "        vertical-align: middle;\n",
              "    }\n",
              "\n",
              "    .dataframe tbody tr th {\n",
              "        vertical-align: top;\n",
              "    }\n",
              "\n",
              "    .dataframe thead th {\n",
              "        text-align: right;\n",
              "    }\n",
              "</style>\n",
              "<table border=\"1\" class=\"dataframe\">\n",
              "  <thead>\n",
              "    <tr style=\"text-align: right;\">\n",
              "      <th></th>\n",
              "      <th>1</th>\n",
              "    </tr>\n",
              "  </thead>\n",
              "  <tbody>\n",
              "    <tr>\n",
              "      <th>0</th>\n",
              "      <td>64.242.88.10 - - [07/Mar/2004:16:05:49 -0800] ...</td>\n",
              "    </tr>\n",
              "    <tr>\n",
              "      <th>1</th>\n",
              "      <td>64.242.88.10 - - [07/Mar/2004:16:06:51 -0800] ...</td>\n",
              "    </tr>\n",
              "    <tr>\n",
              "      <th>2</th>\n",
              "      <td>64.242.88.10 - - [07/Mar/2004:16:10:02 -0800] ...</td>\n",
              "    </tr>\n",
              "    <tr>\n",
              "      <th>3</th>\n",
              "      <td>64.242.88.10 - - [07/Mar/2004:16:11:58 -0800] ...</td>\n",
              "    </tr>\n",
              "    <tr>\n",
              "      <th>4</th>\n",
              "      <td>64.242.88.10 - - [07/Mar/2004:16:20:55 -0800] ...</td>\n",
              "    </tr>\n",
              "    <tr>\n",
              "      <th>...</th>\n",
              "      <td>...</td>\n",
              "    </tr>\n",
              "    <tr>\n",
              "      <th>1541</th>\n",
              "      <td>10.0.0.153 - - [12/Mar/2004:12:23:41 -0800] \"G...</td>\n",
              "    </tr>\n",
              "    <tr>\n",
              "      <th>1542</th>\n",
              "      <td>10.0.0.153 - - [12/Mar/2004:12:23:41 -0800] \"G...</td>\n",
              "    </tr>\n",
              "    <tr>\n",
              "      <th>1543</th>\n",
              "      <td>216.139.185.45 - - [12/Mar/2004:13:04:01 -0800...</td>\n",
              "    </tr>\n",
              "    <tr>\n",
              "      <th>1544</th>\n",
              "      <td>pd95f99f2.dip.t-dialin.net - - [12/Mar/2004:13...</td>\n",
              "    </tr>\n",
              "    <tr>\n",
              "      <th>1545</th>\n",
              "      <td>d97082.upc-d.chello.nl - - [12/Mar/2004:13:25:...</td>\n",
              "    </tr>\n",
              "  </tbody>\n",
              "</table>\n",
              "<p>1546 rows × 1 columns</p>\n",
              "</div>"
            ],
            "text/plain": [
              "                                                      1\n",
              "0     64.242.88.10 - - [07/Mar/2004:16:05:49 -0800] ...\n",
              "1     64.242.88.10 - - [07/Mar/2004:16:06:51 -0800] ...\n",
              "2     64.242.88.10 - - [07/Mar/2004:16:10:02 -0800] ...\n",
              "3     64.242.88.10 - - [07/Mar/2004:16:11:58 -0800] ...\n",
              "4     64.242.88.10 - - [07/Mar/2004:16:20:55 -0800] ...\n",
              "...                                                 ...\n",
              "1541  10.0.0.153 - - [12/Mar/2004:12:23:41 -0800] \"G...\n",
              "1542  10.0.0.153 - - [12/Mar/2004:12:23:41 -0800] \"G...\n",
              "1543  216.139.185.45 - - [12/Mar/2004:13:04:01 -0800...\n",
              "1544  pd95f99f2.dip.t-dialin.net - - [12/Mar/2004:13...\n",
              "1545  d97082.upc-d.chello.nl - - [12/Mar/2004:13:25:...\n",
              "\n",
              "[1546 rows x 1 columns]"
            ]
          },
          "metadata": {
            "tags": []
          },
          "execution_count": 59
        }
      ]
    },
    {
      "cell_type": "code",
      "metadata": {
        "id": "DZOt1c_5_On3",
        "outputId": "d2bff8b4-dc44-40f4-e7b2-8864fd9a29f5",
        "colab": {
          "base_uri": "https://localhost:8080/"
        }
      },
      "source": [
        "type(df)"
      ],
      "execution_count": 60,
      "outputs": [
        {
          "output_type": "execute_result",
          "data": {
            "text/plain": [
              "pandas.core.frame.DataFrame"
            ]
          },
          "metadata": {
            "tags": []
          },
          "execution_count": 60
        }
      ]
    },
    {
      "cell_type": "code",
      "metadata": {
        "id": "3y3VpOpm9OMC"
      },
      "source": [
        "df = pd.DataFrame(list(df[1].apply(lambda x: x.split())))\r\n",
        "df[3] = df[3].apply(lambda x: x.replace('[','') )\r\n",
        "df[4] = df[4].apply(lambda x: x.replace(']','') )\r\n",
        "df[5] = df.apply(lambda x : ' '.join([x[5],x[6]]).replace('\"',''), axis = 1)\r\n",
        "df.drop([1,2,7,6],inplace=True,axis = 1)"
      ],
      "execution_count": 61,
      "outputs": []
    },
    {
      "cell_type": "code",
      "metadata": {
        "colab": {
          "base_uri": "https://localhost:8080/",
          "height": 436
        },
        "id": "bj4tKt7Q9ukV",
        "outputId": "01c4d0a8-bb57-4d4d-bd52-84d03ad23206"
      },
      "source": [
        "df"
      ],
      "execution_count": 62,
      "outputs": [
        {
          "output_type": "execute_result",
          "data": {
            "text/html": [
              "<div>\n",
              "<style scoped>\n",
              "    .dataframe tbody tr th:only-of-type {\n",
              "        vertical-align: middle;\n",
              "    }\n",
              "\n",
              "    .dataframe tbody tr th {\n",
              "        vertical-align: top;\n",
              "    }\n",
              "\n",
              "    .dataframe thead th {\n",
              "        text-align: right;\n",
              "    }\n",
              "</style>\n",
              "<table border=\"1\" class=\"dataframe\">\n",
              "  <thead>\n",
              "    <tr style=\"text-align: right;\">\n",
              "      <th></th>\n",
              "      <th>0</th>\n",
              "      <th>3</th>\n",
              "      <th>4</th>\n",
              "      <th>5</th>\n",
              "      <th>8</th>\n",
              "      <th>9</th>\n",
              "    </tr>\n",
              "  </thead>\n",
              "  <tbody>\n",
              "    <tr>\n",
              "      <th>0</th>\n",
              "      <td>64.242.88.10</td>\n",
              "      <td>07/Mar/2004:16:05:49</td>\n",
              "      <td>-0800</td>\n",
              "      <td>GET /twiki/bin/edit/Main/Double_bounce_sender?...</td>\n",
              "      <td>401</td>\n",
              "      <td>12846</td>\n",
              "    </tr>\n",
              "    <tr>\n",
              "      <th>1</th>\n",
              "      <td>64.242.88.10</td>\n",
              "      <td>07/Mar/2004:16:06:51</td>\n",
              "      <td>-0800</td>\n",
              "      <td>GET /twiki/bin/rdiff/TWiki/NewUserTemplate?rev...</td>\n",
              "      <td>200</td>\n",
              "      <td>4523</td>\n",
              "    </tr>\n",
              "    <tr>\n",
              "      <th>2</th>\n",
              "      <td>64.242.88.10</td>\n",
              "      <td>07/Mar/2004:16:10:02</td>\n",
              "      <td>-0800</td>\n",
              "      <td>GET /mailman/listinfo/hsdivision</td>\n",
              "      <td>200</td>\n",
              "      <td>6291</td>\n",
              "    </tr>\n",
              "    <tr>\n",
              "      <th>3</th>\n",
              "      <td>64.242.88.10</td>\n",
              "      <td>07/Mar/2004:16:11:58</td>\n",
              "      <td>-0800</td>\n",
              "      <td>GET /twiki/bin/view/TWiki/WikiSyntax</td>\n",
              "      <td>200</td>\n",
              "      <td>7352</td>\n",
              "    </tr>\n",
              "    <tr>\n",
              "      <th>4</th>\n",
              "      <td>64.242.88.10</td>\n",
              "      <td>07/Mar/2004:16:20:55</td>\n",
              "      <td>-0800</td>\n",
              "      <td>GET /twiki/bin/view/Main/DCCAndPostFix</td>\n",
              "      <td>200</td>\n",
              "      <td>5253</td>\n",
              "    </tr>\n",
              "    <tr>\n",
              "      <th>...</th>\n",
              "      <td>...</td>\n",
              "      <td>...</td>\n",
              "      <td>...</td>\n",
              "      <td>...</td>\n",
              "      <td>...</td>\n",
              "      <td>...</td>\n",
              "    </tr>\n",
              "    <tr>\n",
              "      <th>1541</th>\n",
              "      <td>10.0.0.153</td>\n",
              "      <td>12/Mar/2004:12:23:41</td>\n",
              "      <td>-0800</td>\n",
              "      <td>GET /dccstats/stats-spam-ratio.1year.png</td>\n",
              "      <td>200</td>\n",
              "      <td>1906</td>\n",
              "    </tr>\n",
              "    <tr>\n",
              "      <th>1542</th>\n",
              "      <td>10.0.0.153</td>\n",
              "      <td>12/Mar/2004:12:23:41</td>\n",
              "      <td>-0800</td>\n",
              "      <td>GET /dccstats/stats-hashes.1year.png</td>\n",
              "      <td>200</td>\n",
              "      <td>1582</td>\n",
              "    </tr>\n",
              "    <tr>\n",
              "      <th>1543</th>\n",
              "      <td>216.139.185.45</td>\n",
              "      <td>12/Mar/2004:13:04:01</td>\n",
              "      <td>-0800</td>\n",
              "      <td>GET /mailman/listinfo/webber</td>\n",
              "      <td>200</td>\n",
              "      <td>6051</td>\n",
              "    </tr>\n",
              "    <tr>\n",
              "      <th>1544</th>\n",
              "      <td>pd95f99f2.dip.t-dialin.net</td>\n",
              "      <td>12/Mar/2004:13:18:57</td>\n",
              "      <td>-0800</td>\n",
              "      <td>GET /razor.html</td>\n",
              "      <td>200</td>\n",
              "      <td>2869</td>\n",
              "    </tr>\n",
              "    <tr>\n",
              "      <th>1545</th>\n",
              "      <td>d97082.upc-d.chello.nl</td>\n",
              "      <td>12/Mar/2004:13:25:45</td>\n",
              "      <td>-0800</td>\n",
              "      <td>GET /SpamAssassin.html</td>\n",
              "      <td>200</td>\n",
              "      <td>7368</td>\n",
              "    </tr>\n",
              "  </tbody>\n",
              "</table>\n",
              "<p>1546 rows × 6 columns</p>\n",
              "</div>"
            ],
            "text/plain": [
              "                               0                     3  ...    8      9\n",
              "0                   64.242.88.10  07/Mar/2004:16:05:49  ...  401  12846\n",
              "1                   64.242.88.10  07/Mar/2004:16:06:51  ...  200   4523\n",
              "2                   64.242.88.10  07/Mar/2004:16:10:02  ...  200   6291\n",
              "3                   64.242.88.10  07/Mar/2004:16:11:58  ...  200   7352\n",
              "4                   64.242.88.10  07/Mar/2004:16:20:55  ...  200   5253\n",
              "...                          ...                   ...  ...  ...    ...\n",
              "1541                  10.0.0.153  12/Mar/2004:12:23:41  ...  200   1906\n",
              "1542                  10.0.0.153  12/Mar/2004:12:23:41  ...  200   1582\n",
              "1543              216.139.185.45  12/Mar/2004:13:04:01  ...  200   6051\n",
              "1544  pd95f99f2.dip.t-dialin.net  12/Mar/2004:13:18:57  ...  200   2869\n",
              "1545      d97082.upc-d.chello.nl  12/Mar/2004:13:25:45  ...  200   7368\n",
              "\n",
              "[1546 rows x 6 columns]"
            ]
          },
          "metadata": {
            "tags": []
          },
          "execution_count": 62
        }
      ]
    },
    {
      "cell_type": "code",
      "metadata": {
        "id": "JYpei6vaAm-z"
      },
      "source": [
        "columns = ['IP Address','Date/Time','GMT Offset', 'Action','Return Code','Size']\r\n",
        "df.columns  = columns\r\n",
        "df['Date/Time']=pd.to_datetime(df['Date/Time'], format='%d/%b/%Y:%H:%M:%S')"
      ],
      "execution_count": 63,
      "outputs": []
    },
    {
      "cell_type": "code",
      "metadata": {
        "colab": {
          "base_uri": "https://localhost:8080/",
          "height": 606
        },
        "id": "RW6gDqZIAqLR",
        "outputId": "ab12e349-ecbb-4d57-9d03-16713fa9c707"
      },
      "source": [
        "df"
      ],
      "execution_count": 64,
      "outputs": [
        {
          "output_type": "execute_result",
          "data": {
            "text/html": [
              "<div>\n",
              "<style scoped>\n",
              "    .dataframe tbody tr th:only-of-type {\n",
              "        vertical-align: middle;\n",
              "    }\n",
              "\n",
              "    .dataframe tbody tr th {\n",
              "        vertical-align: top;\n",
              "    }\n",
              "\n",
              "    .dataframe thead th {\n",
              "        text-align: right;\n",
              "    }\n",
              "</style>\n",
              "<table border=\"1\" class=\"dataframe\">\n",
              "  <thead>\n",
              "    <tr style=\"text-align: right;\">\n",
              "      <th></th>\n",
              "      <th>IP Address</th>\n",
              "      <th>Date/Time</th>\n",
              "      <th>GMT Offset</th>\n",
              "      <th>Action</th>\n",
              "      <th>Return Code</th>\n",
              "      <th>Size</th>\n",
              "    </tr>\n",
              "  </thead>\n",
              "  <tbody>\n",
              "    <tr>\n",
              "      <th>0</th>\n",
              "      <td>64.242.88.10</td>\n",
              "      <td>2004-03-07 16:05:49</td>\n",
              "      <td>-0800</td>\n",
              "      <td>GET /twiki/bin/edit/Main/Double_bounce_sender?...</td>\n",
              "      <td>401</td>\n",
              "      <td>12846</td>\n",
              "    </tr>\n",
              "    <tr>\n",
              "      <th>1</th>\n",
              "      <td>64.242.88.10</td>\n",
              "      <td>2004-03-07 16:06:51</td>\n",
              "      <td>-0800</td>\n",
              "      <td>GET /twiki/bin/rdiff/TWiki/NewUserTemplate?rev...</td>\n",
              "      <td>200</td>\n",
              "      <td>4523</td>\n",
              "    </tr>\n",
              "    <tr>\n",
              "      <th>2</th>\n",
              "      <td>64.242.88.10</td>\n",
              "      <td>2004-03-07 16:10:02</td>\n",
              "      <td>-0800</td>\n",
              "      <td>GET /mailman/listinfo/hsdivision</td>\n",
              "      <td>200</td>\n",
              "      <td>6291</td>\n",
              "    </tr>\n",
              "    <tr>\n",
              "      <th>3</th>\n",
              "      <td>64.242.88.10</td>\n",
              "      <td>2004-03-07 16:11:58</td>\n",
              "      <td>-0800</td>\n",
              "      <td>GET /twiki/bin/view/TWiki/WikiSyntax</td>\n",
              "      <td>200</td>\n",
              "      <td>7352</td>\n",
              "    </tr>\n",
              "    <tr>\n",
              "      <th>4</th>\n",
              "      <td>64.242.88.10</td>\n",
              "      <td>2004-03-07 16:20:55</td>\n",
              "      <td>-0800</td>\n",
              "      <td>GET /twiki/bin/view/Main/DCCAndPostFix</td>\n",
              "      <td>200</td>\n",
              "      <td>5253</td>\n",
              "    </tr>\n",
              "    <tr>\n",
              "      <th>...</th>\n",
              "      <td>...</td>\n",
              "      <td>...</td>\n",
              "      <td>...</td>\n",
              "      <td>...</td>\n",
              "      <td>...</td>\n",
              "      <td>...</td>\n",
              "    </tr>\n",
              "    <tr>\n",
              "      <th>1541</th>\n",
              "      <td>10.0.0.153</td>\n",
              "      <td>2004-03-12 12:23:41</td>\n",
              "      <td>-0800</td>\n",
              "      <td>GET /dccstats/stats-spam-ratio.1year.png</td>\n",
              "      <td>200</td>\n",
              "      <td>1906</td>\n",
              "    </tr>\n",
              "    <tr>\n",
              "      <th>1542</th>\n",
              "      <td>10.0.0.153</td>\n",
              "      <td>2004-03-12 12:23:41</td>\n",
              "      <td>-0800</td>\n",
              "      <td>GET /dccstats/stats-hashes.1year.png</td>\n",
              "      <td>200</td>\n",
              "      <td>1582</td>\n",
              "    </tr>\n",
              "    <tr>\n",
              "      <th>1543</th>\n",
              "      <td>216.139.185.45</td>\n",
              "      <td>2004-03-12 13:04:01</td>\n",
              "      <td>-0800</td>\n",
              "      <td>GET /mailman/listinfo/webber</td>\n",
              "      <td>200</td>\n",
              "      <td>6051</td>\n",
              "    </tr>\n",
              "    <tr>\n",
              "      <th>1544</th>\n",
              "      <td>pd95f99f2.dip.t-dialin.net</td>\n",
              "      <td>2004-03-12 13:18:57</td>\n",
              "      <td>-0800</td>\n",
              "      <td>GET /razor.html</td>\n",
              "      <td>200</td>\n",
              "      <td>2869</td>\n",
              "    </tr>\n",
              "    <tr>\n",
              "      <th>1545</th>\n",
              "      <td>d97082.upc-d.chello.nl</td>\n",
              "      <td>2004-03-12 13:25:45</td>\n",
              "      <td>-0800</td>\n",
              "      <td>GET /SpamAssassin.html</td>\n",
              "      <td>200</td>\n",
              "      <td>7368</td>\n",
              "    </tr>\n",
              "  </tbody>\n",
              "</table>\n",
              "<p>1546 rows × 6 columns</p>\n",
              "</div>"
            ],
            "text/plain": [
              "                      IP Address           Date/Time  ... Return Code   Size\n",
              "0                   64.242.88.10 2004-03-07 16:05:49  ...         401  12846\n",
              "1                   64.242.88.10 2004-03-07 16:06:51  ...         200   4523\n",
              "2                   64.242.88.10 2004-03-07 16:10:02  ...         200   6291\n",
              "3                   64.242.88.10 2004-03-07 16:11:58  ...         200   7352\n",
              "4                   64.242.88.10 2004-03-07 16:20:55  ...         200   5253\n",
              "...                          ...                 ...  ...         ...    ...\n",
              "1541                  10.0.0.153 2004-03-12 12:23:41  ...         200   1906\n",
              "1542                  10.0.0.153 2004-03-12 12:23:41  ...         200   1582\n",
              "1543              216.139.185.45 2004-03-12 13:04:01  ...         200   6051\n",
              "1544  pd95f99f2.dip.t-dialin.net 2004-03-12 13:18:57  ...         200   2869\n",
              "1545      d97082.upc-d.chello.nl 2004-03-12 13:25:45  ...         200   7368\n",
              "\n",
              "[1546 rows x 6 columns]"
            ]
          },
          "metadata": {
            "tags": []
          },
          "execution_count": 64
        }
      ]
    },
    {
      "cell_type": "code",
      "metadata": {
        "colab": {
          "base_uri": "https://localhost:8080/"
        },
        "id": "Xv9WAGucIrKa",
        "outputId": "5e3d6e65-15f7-4168-a587-f1bfd0d9eed6"
      },
      "source": [
        "df['IP Address'].value_counts().head(5)"
      ],
      "execution_count": 65,
      "outputs": [
        {
          "output_type": "execute_result",
          "data": {
            "text/plain": [
              "64.242.88.10                       452\n",
              "10.0.0.153                         270\n",
              "h24-71-236-129.ca.shawcable.net     51\n",
              "cr020r01-3.sac.overture.com         44\n",
              "h24-70-69-74.ca.shawcable.net       32\n",
              "Name: IP Address, dtype: int64"
            ]
          },
          "metadata": {
            "tags": []
          },
          "execution_count": 65
        }
      ]
    },
    {
      "cell_type": "code",
      "metadata": {
        "colab": {
          "base_uri": "https://localhost:8080/",
          "height": 605
        },
        "id": "Mh8sWvDXJQ4C",
        "outputId": "06b288e4-b382-4bf8-9b86-7ae5f4eadb66"
      },
      "source": [
        "plt.figure(figsize=(10,6))\r\n",
        "sns.barplot(df['IP Address'].value_counts().index[0:10],\r\n",
        "            df['IP Address'].value_counts().values[0:10],)\r\n",
        "plt.xticks(rotation=90)\r\n",
        "plt.title('Visitors')\r\n",
        "plt.show()"
      ],
      "execution_count": 66,
      "outputs": [
        {
          "output_type": "stream",
          "text": [
            "/usr/local/lib/python3.6/dist-packages/seaborn/_decorators.py:43: FutureWarning: Pass the following variables as keyword args: x, y. From version 0.12, the only valid positional argument will be `data`, and passing other arguments without an explicit keyword will result in an error or misinterpretation.\n",
            "  FutureWarning\n"
          ],
          "name": "stderr"
        },
        {
          "output_type": "display_data",
          "data": {
            "image/png": "[encoded data removed]",
            "text/plain": [
              "<Figure size 720x432 with 1 Axes>"
            ]
          },
          "metadata": {
            "tags": [],
            "needs_background": "light"
          }
        }
      ]
    },
    {
      "cell_type": "code",
      "metadata": {
        "id": "uw6upK_s6lK8",
        "outputId": "f47436a0-70b8-4854-8efd-de9663bfd0e4",
        "colab": {
          "base_uri": "https://localhost:8080/",
          "height": 699
        }
      },
      "source": [
        "plt.figure(figsize=(10,6))\r\n",
        "sns.barplot(df['Action'].value_counts().index[0:10],\r\n",
        "            df['Action'].value_counts().values[0:10],)\r\n",
        "plt.xticks(rotation=90)\r\n",
        "plt.title('Action on Pages')\r\n",
        "plt.show()"
      ],
      "execution_count": 67,
      "outputs": [
        {
          "output_type": "stream",
          "text": [
            "/usr/local/lib/python3.6/dist-packages/seaborn/_decorators.py:43: FutureWarning: Pass the following variables as keyword args: x, y. From version 0.12, the only valid positional argument will be `data`, and passing other arguments without an explicit keyword will result in an error or misinterpretation.\n",
            "  FutureWarning\n"
          ],
          "name": "stderr"
        },
        {
          "output_type": "display_data",
          "data": {
            "image/png": "[encoded data removed]",
            "text/plain": [
              "<Figure size 720x432 with 1 Axes>"
            ]
          },
          "metadata": {
            "tags": [],
            "needs_background": "light"
          }
        }
      ]
    },
    {
      "cell_type": "code",
      "metadata": {
        "id": "6EaM9OWIYKpi"
      },
      "source": [
        "def ip_loc(x):\r\n",
        "    url = \"https://geolocation-db.com/jsonp/\"+x\r\n",
        "    with urllib.request.urlopen(url) as url:\r\n",
        "        data = json.loads(url.read().decode().split(\"(\")[1].strip(\")\"))\r\n",
        "    return {\"country_code\":data[\"country_code\"], 'latitude':data['latitude'],'longitude':data['longitude']}"
      ],
      "execution_count": 68,
      "outputs": []
    },
    {
      "cell_type": "code",
      "metadata": {
        "id": "81DOJcTsUctI"
      },
      "source": [
        "ip_info = {}\r\n",
        "for i in (df['IP Address'].unique()):\r\n",
        "    ip_info[i] = ip_loc(i)"
      ],
      "execution_count": 39,
      "outputs": []
    },
    {
      "cell_type": "code",
      "metadata": {
        "id": "6ic1uvesxm5s"
      },
      "source": [
        "df[\"Country\"] = df[\"IP Address\"].apply(lambda x: ip_info[x][\"country_code\"])\r\n",
        "df['latitude'] = df[\"IP Address\"].apply(lambda x: ip_info[x]['latitude'])\r\n",
        "df['longitude'] = df[\"IP Address\"].apply(lambda x: ip_info[x]['longitude'])\r\n",
        "df['date'] = df['Date/Time'].dt.date\r\n",
        "df['time'] = df['Date/Time'].dt.time"
      ],
      "execution_count": 69,
      "outputs": []
    },
    {
      "cell_type": "code",
      "metadata": {
        "id": "9SiEcgDntzG6",
        "outputId": "83fec5df-7a62-4e4e-bcf0-1550869a8df3",
        "colab": {
          "base_uri": "https://localhost:8080/",
          "height": 796
        }
      },
      "source": [
        "df"
      ],
      "execution_count": 70,
      "outputs": [
        {
          "output_type": "execute_result",
          "data": {
            "text/html": [
              "<div>\n",
              "<style scoped>\n",
              "    .dataframe tbody tr th:only-of-type {\n",
              "        vertical-align: middle;\n",
              "    }\n",
              "\n",
              "    .dataframe tbody tr th {\n",
              "        vertical-align: top;\n",
              "    }\n",
              "\n",
              "    .dataframe thead th {\n",
              "        text-align: right;\n",
              "    }\n",
              "</style>\n",
              "<table border=\"1\" class=\"dataframe\">\n",
              "  <thead>\n",
              "    <tr style=\"text-align: right;\">\n",
              "      <th></th>\n",
              "      <th>IP Address</th>\n",
              "      <th>Date/Time</th>\n",
              "      <th>GMT Offset</th>\n",
              "      <th>Action</th>\n",
              "      <th>Return Code</th>\n",
              "      <th>Size</th>\n",
              "      <th>Country</th>\n",
              "      <th>latitude</th>\n",
              "      <th>longitude</th>\n",
              "      <th>date</th>\n",
              "      <th>time</th>\n",
              "    </tr>\n",
              "  </thead>\n",
              "  <tbody>\n",
              "    <tr>\n",
              "      <th>0</th>\n",
              "      <td>64.242.88.10</td>\n",
              "      <td>2004-03-07 16:05:49</td>\n",
              "      <td>-0800</td>\n",
              "      <td>GET /twiki/bin/edit/Main/Double_bounce_sender?...</td>\n",
              "      <td>401</td>\n",
              "      <td>12846</td>\n",
              "      <td>US</td>\n",
              "      <td>37.751</td>\n",
              "      <td>-97.822</td>\n",
              "      <td>2004-03-07</td>\n",
              "      <td>16:05:49</td>\n",
              "    </tr>\n",
              "    <tr>\n",
              "      <th>1</th>\n",
              "      <td>64.242.88.10</td>\n",
              "      <td>2004-03-07 16:06:51</td>\n",
              "      <td>-0800</td>\n",
              "      <td>GET /twiki/bin/rdiff/TWiki/NewUserTemplate?rev...</td>\n",
              "      <td>200</td>\n",
              "      <td>4523</td>\n",
              "      <td>US</td>\n",
              "      <td>37.751</td>\n",
              "      <td>-97.822</td>\n",
              "      <td>2004-03-07</td>\n",
              "      <td>16:06:51</td>\n",
              "    </tr>\n",
              "    <tr>\n",
              "      <th>2</th>\n",
              "      <td>64.242.88.10</td>\n",
              "      <td>2004-03-07 16:10:02</td>\n",
              "      <td>-0800</td>\n",
              "      <td>GET /mailman/listinfo/hsdivision</td>\n",
              "      <td>200</td>\n",
              "      <td>6291</td>\n",
              "      <td>US</td>\n",
              "      <td>37.751</td>\n",
              "      <td>-97.822</td>\n",
              "      <td>2004-03-07</td>\n",
              "      <td>16:10:02</td>\n",
              "    </tr>\n",
              "    <tr>\n",
              "      <th>3</th>\n",
              "      <td>64.242.88.10</td>\n",
              "      <td>2004-03-07 16:11:58</td>\n",
              "      <td>-0800</td>\n",
              "      <td>GET /twiki/bin/view/TWiki/WikiSyntax</td>\n",
              "      <td>200</td>\n",
              "      <td>7352</td>\n",
              "      <td>US</td>\n",
              "      <td>37.751</td>\n",
              "      <td>-97.822</td>\n",
              "      <td>2004-03-07</td>\n",
              "      <td>16:11:58</td>\n",
              "    </tr>\n",
              "    <tr>\n",
              "      <th>4</th>\n",
              "      <td>64.242.88.10</td>\n",
              "      <td>2004-03-07 16:20:55</td>\n",
              "      <td>-0800</td>\n",
              "      <td>GET /twiki/bin/view/Main/DCCAndPostFix</td>\n",
              "      <td>200</td>\n",
              "      <td>5253</td>\n",
              "      <td>US</td>\n",
              "      <td>37.751</td>\n",
              "      <td>-97.822</td>\n",
              "      <td>2004-03-07</td>\n",
              "      <td>16:20:55</td>\n",
              "    </tr>\n",
              "    <tr>\n",
              "      <th>...</th>\n",
              "      <td>...</td>\n",
              "      <td>...</td>\n",
              "      <td>...</td>\n",
              "      <td>...</td>\n",
              "      <td>...</td>\n",
              "      <td>...</td>\n",
              "      <td>...</td>\n",
              "      <td>...</td>\n",
              "      <td>...</td>\n",
              "      <td>...</td>\n",
              "      <td>...</td>\n",
              "    </tr>\n",
              "    <tr>\n",
              "      <th>1541</th>\n",
              "      <td>10.0.0.153</td>\n",
              "      <td>2004-03-12 12:23:41</td>\n",
              "      <td>-0800</td>\n",
              "      <td>GET /dccstats/stats-spam-ratio.1year.png</td>\n",
              "      <td>200</td>\n",
              "      <td>1906</td>\n",
              "      <td>Not found</td>\n",
              "      <td>Not found</td>\n",
              "      <td>Not found</td>\n",
              "      <td>2004-03-12</td>\n",
              "      <td>12:23:41</td>\n",
              "    </tr>\n",
              "    <tr>\n",
              "      <th>1542</th>\n",
              "      <td>10.0.0.153</td>\n",
              "      <td>2004-03-12 12:23:41</td>\n",
              "      <td>-0800</td>\n",
              "      <td>GET /dccstats/stats-hashes.1year.png</td>\n",
              "      <td>200</td>\n",
              "      <td>1582</td>\n",
              "      <td>Not found</td>\n",
              "      <td>Not found</td>\n",
              "      <td>Not found</td>\n",
              "      <td>2004-03-12</td>\n",
              "      <td>12:23:41</td>\n",
              "    </tr>\n",
              "    <tr>\n",
              "      <th>1543</th>\n",
              "      <td>216.139.185.45</td>\n",
              "      <td>2004-03-12 13:04:01</td>\n",
              "      <td>-0800</td>\n",
              "      <td>GET /mailman/listinfo/webber</td>\n",
              "      <td>200</td>\n",
              "      <td>6051</td>\n",
              "      <td>US</td>\n",
              "      <td>37.751</td>\n",
              "      <td>-97.822</td>\n",
              "      <td>2004-03-12</td>\n",
              "      <td>13:04:01</td>\n",
              "    </tr>\n",
              "    <tr>\n",
              "      <th>1544</th>\n",
              "      <td>pd95f99f2.dip.t-dialin.net</td>\n",
              "      <td>2004-03-12 13:18:57</td>\n",
              "      <td>-0800</td>\n",
              "      <td>GET /razor.html</td>\n",
              "      <td>200</td>\n",
              "      <td>2869</td>\n",
              "      <td>None</td>\n",
              "      <td>35</td>\n",
              "      <td>105</td>\n",
              "      <td>2004-03-12</td>\n",
              "      <td>13:18:57</td>\n",
              "    </tr>\n",
              "    <tr>\n",
              "      <th>1545</th>\n",
              "      <td>d97082.upc-d.chello.nl</td>\n",
              "      <td>2004-03-12 13:25:45</td>\n",
              "      <td>-0800</td>\n",
              "      <td>GET /SpamAssassin.html</td>\n",
              "      <td>200</td>\n",
              "      <td>7368</td>\n",
              "      <td>None</td>\n",
              "      <td>35</td>\n",
              "      <td>105</td>\n",
              "      <td>2004-03-12</td>\n",
              "      <td>13:25:45</td>\n",
              "    </tr>\n",
              "  </tbody>\n",
              "</table>\n",
              "<p>1546 rows × 11 columns</p>\n",
              "</div>"
            ],
            "text/plain": [
              "                      IP Address           Date/Time  ...        date      time\n",
              "0                   64.242.88.10 2004-03-07 16:05:49  ...  2004-03-07  16:05:49\n",
              "1                   64.242.88.10 2004-03-07 16:06:51  ...  2004-03-07  16:06:51\n",
              "2                   64.242.88.10 2004-03-07 16:10:02  ...  2004-03-07  16:10:02\n",
              "3                   64.242.88.10 2004-03-07 16:11:58  ...  2004-03-07  16:11:58\n",
              "4                   64.242.88.10 2004-03-07 16:20:55  ...  2004-03-07  16:20:55\n",
              "...                          ...                 ...  ...         ...       ...\n",
              "1541                  10.0.0.153 2004-03-12 12:23:41  ...  2004-03-12  12:23:41\n",
              "1542                  10.0.0.153 2004-03-12 12:23:41  ...  2004-03-12  12:23:41\n",
              "1543              216.139.185.45 2004-03-12 13:04:01  ...  2004-03-12  13:04:01\n",
              "1544  pd95f99f2.dip.t-dialin.net 2004-03-12 13:18:57  ...  2004-03-12  13:18:57\n",
              "1545      d97082.upc-d.chello.nl 2004-03-12 13:25:45  ...  2004-03-12  13:25:45\n",
              "\n",
              "[1546 rows x 11 columns]"
            ]
          },
          "metadata": {
            "tags": []
          },
          "execution_count": 70
        }
      ]
    },
    {
      "cell_type": "code",
      "metadata": {
        "id": "sxqz8AFP6ei-",
        "outputId": "740e6fb1-651b-440e-9a4d-1d20dc27c512",
        "colab": {
          "base_uri": "https://localhost:8080/",
          "height": 483
        }
      },
      "source": [
        "plt.figure(figsize=(10,6))\r\n",
        "sns.p(df['Country'].value_counts().index[0:10],\r\n",
        "            df['Country'].value_counts().values[0:10],)\r\n",
        "plt.xticks(rotation=90)\r\n",
        "plt.title('Countries involved ')\r\n",
        "plt.show()"
      ],
      "execution_count": 71,
      "outputs": [
        {
          "output_type": "stream",
          "text": [
            "/usr/local/lib/python3.6/dist-packages/seaborn/_decorators.py:43: FutureWarning: Pass the following variables as keyword args: x, y. From version 0.12, the only valid positional argument will be `data`, and passing other arguments without an explicit keyword will result in an error or misinterpretation.\n",
            "  FutureWarning\n"
          ],
          "name": "stderr"
        },
        {
          "output_type": "display_data",
          "data": {
            "image/png": "[encoded data removed]",
            "text/plain": [
              "<Figure size 720x432 with 1 Axes>"
            ]
          },
          "metadata": {
            "tags": [],
            "needs_background": "light"
          }
        }
      ]
    },
    {
      "cell_type": "code",
      "metadata": {
        "id": "6W5LUkQAAQYs",
        "outputId": "a6faaac9-4e95-486f-861f-56c2e2b10338",
        "colab": {
          "base_uri": "https://localhost:8080/",
          "height": 415
        }
      },
      "source": [
        "plt.pie(df['Country'].value_counts().values[0:5],labels=df['Country'].value_counts().index[0:5],startangle=0,radius=2)\r\n",
        "plt.legend(title=\"Country\")\r\n",
        "plt.show()"
      ],
      "execution_count": 94,
      "outputs": [
        {
          "output_type": "display_data",
          "data": {
            "image/png": "[encoded data removed]",
            "text/plain": [
              "<Figure size 432x288 with 1 Axes>"
            ]
          },
          "metadata": {
            "tags": []
          }
        }
      ]
    },
    {
      "cell_type": "code",
      "metadata": {
        "id": "d8fUd7JdBpCV"
      },
      "source": [
        ""
      ],
      "execution_count": null,
      "outputs": []
    }
  ]
}